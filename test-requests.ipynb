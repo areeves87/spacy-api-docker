{
 "cells": [
  {
   "cell_type": "code",
   "execution_count": 61,
   "metadata": {},
   "outputs": [],
   "source": [
    "import json\n",
    "import requests\n",
    "\n",
    "url = \"http://localhost:8000/dep\"\n",
    "message_text = \"They ate the pizza with anchovies\"\n",
    "headers = {'content-type': 'application/json'}\n",
    "d = {'text': message_text, 'model': 'en'}\n",
    "\n",
    "response = requests.post(url, data=json.dumps(d), headers=headers)\n",
    "r = response.json()"
   ]
  },
  {
   "cell_type": "code",
   "execution_count": 62,
   "metadata": {},
   "outputs": [
    {
     "data": {
      "text/plain": [
       "{'arcs': [{'dir': 'left',\n",
       "   'end': 1,\n",
       "   'label': 'nsubj',\n",
       "   'start': 0,\n",
       "   'text': 'They'},\n",
       "  {'dir': 'right', 'end': 2, 'label': 'dobj', 'start': 1, 'text': 'the pizza'},\n",
       "  {'dir': 'right', 'end': 3, 'label': 'prep', 'start': 1, 'text': 'with'},\n",
       "  {'dir': 'right',\n",
       "   'end': 4,\n",
       "   'label': 'pobj',\n",
       "   'start': 3,\n",
       "   'text': 'anchovies'}],\n",
       " 'words': [{'tag': 'PRP', 'text': 'They'},\n",
       "  {'tag': 'VBD', 'text': 'ate'},\n",
       "  {'tag': 'NN', 'text': 'the pizza'},\n",
       "  {'tag': 'IN', 'text': 'with'},\n",
       "  {'tag': 'NNS', 'text': 'anchovies'}]}"
      ]
     },
     "execution_count": 62,
     "metadata": {},
     "output_type": "execute_result"
    }
   ],
   "source": [
    "r"
   ]
  },
  {
   "cell_type": "code",
   "execution_count": 63,
   "metadata": {},
   "outputs": [],
   "source": [
    "url = \"http://localhost:8000/sents\"\n",
    "message_text = \"In 2012 I was a mediocre developer. But today I am at least a bit better.\"\n",
    "headers = {'content-type': 'application/json'}\n",
    "d = {'text': message_text, 'model': 'en'}\n",
    "\n",
    "response = requests.post(url, data=json.dumps(d), headers=headers)\n",
    "r = response.json()"
   ]
  },
  {
   "cell_type": "code",
   "execution_count": 64,
   "metadata": {},
   "outputs": [
    {
     "data": {
      "text/plain": [
       "['In 2012 I was a mediocre developer.',\n",
       " 'But today I am at least a bit better.']"
      ]
     },
     "execution_count": 64,
     "metadata": {},
     "output_type": "execute_result"
    }
   ],
   "source": [
    "r"
   ]
  },
  {
   "cell_type": "code",
   "execution_count": 65,
   "metadata": {},
   "outputs": [],
   "source": [
    "url = \"http://localhost:8000/similarity\"\n",
    "\n",
    "phrase1 = \"They ate the pizza with anchovies\"\n",
    "phrase2 = \"My phone is good\"\n",
    "headers = {'content-type': 'application/json'}\n",
    "d = {'phrase1': phrase1,\n",
    "     'phrase2': phrase2,\n",
    "     'model': 'en'}\n",
    "\n",
    "response = requests.post(url, data=json.dumps(d), headers=headers)\n",
    "r = response.json()"
   ]
  },
  {
   "cell_type": "code",
   "execution_count": 66,
   "metadata": {},
   "outputs": [
    {
     "data": {
      "text/plain": [
       "200"
      ]
     },
     "execution_count": 66,
     "metadata": {},
     "output_type": "execute_result"
    }
   ],
   "source": [
    "response.status_code"
   ]
  },
  {
   "cell_type": "code",
   "execution_count": 67,
   "metadata": {},
   "outputs": [
    {
     "data": {
      "text/plain": [
       "b'[\\n  \"0.365479880893359\"\\n]'"
      ]
     },
     "execution_count": 67,
     "metadata": {},
     "output_type": "execute_result"
    }
   ],
   "source": [
    "response.content"
   ]
  },
  {
   "cell_type": "code",
   "execution_count": 68,
   "metadata": {},
   "outputs": [
    {
     "data": {
      "text/plain": [
       "'[\\n  \"0.365479880893359\"\\n]'"
      ]
     },
     "execution_count": 68,
     "metadata": {},
     "output_type": "execute_result"
    }
   ],
   "source": [
    "response.text"
   ]
  },
  {
   "cell_type": "code",
   "execution_count": 58,
   "metadata": {},
   "outputs": [],
   "source": [
    "import os"
   ]
  },
  {
   "cell_type": "code",
   "execution_count": 59,
   "metadata": {},
   "outputs": [
    {
     "data": {
      "text/plain": [
       "'.'"
      ]
     },
     "execution_count": 59,
     "metadata": {},
     "output_type": "execute_result"
    }
   ],
   "source": [
    "os.curdir"
   ]
  },
  {
   "cell_type": "code",
   "execution_count": 60,
   "metadata": {},
   "outputs": [
    {
     "data": {
      "text/plain": [
       "'Internal Server Error'"
      ]
     },
     "execution_count": 60,
     "metadata": {},
     "output_type": "execute_result"
    }
   ],
   "source": [
    "response.reason"
   ]
  },
  {
   "cell_type": "code",
   "execution_count": null,
   "metadata": {},
   "outputs": [],
   "source": []
  }
 ],
 "metadata": {
  "kernelspec": {
   "display_name": "Python 3",
   "language": "python",
   "name": "python3"
  },
  "language_info": {
   "codemirror_mode": {
    "name": "ipython",
    "version": 3
   },
   "file_extension": ".py",
   "mimetype": "text/x-python",
   "name": "python",
   "nbconvert_exporter": "python",
   "pygments_lexer": "ipython3",
   "version": "3.7.0"
  }
 },
 "nbformat": 4,
 "nbformat_minor": 2
}
